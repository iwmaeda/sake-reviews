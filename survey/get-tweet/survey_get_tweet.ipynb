{
 "cells": [
  {
   "cell_type": "code",
   "execution_count": 73,
   "metadata": {
    "collapsed": true
   },
   "outputs": [],
   "source": [
    "import datetime\n",
    "import json\n",
    "import requests\n",
    "\n",
    "import pandas as pd\n",
    "\n",
    "from requests_oauthlib import OAuth1Session\n",
    "from urllib import parse"
   ]
  },
  {
   "cell_type": "code",
   "execution_count": 7,
   "metadata": {
    "collapsed": true
   },
   "outputs": [],
   "source": [
    "# Define key and token\n",
    "dict_key = {}\n",
    "\n",
    "with open('../../key-and-tokes.txt', 'r') as f:\n",
    "    for line in f.readlines():\n",
    "        pair = line.replace('\\n', '').split(':')\n",
    "        dict_key[pair[0].strip()] = pair[1].strip()"
   ]
  },
  {
   "cell_type": "markdown",
   "metadata": {},
   "source": [
    "## 試しに自分のアカウントのtweetを取得"
   ]
  },
  {
   "cell_type": "code",
   "execution_count": 17,
   "metadata": {
    "collapsed": true
   },
   "outputs": [],
   "source": [
    "# Set url\n",
    "url = 'https://api.twitter.com/1.1/statuses/user_timeline.json'\n",
    "\n",
    "# Set parameters\n",
    "params = {'screen_name':'gan_informatics',\n",
    "          'exclude_replies' : True,\n",
    "          'include_rts' : False,\n",
    "          'count' : 200}"
   ]
  },
  {
   "cell_type": "code",
   "execution_count": 18,
   "metadata": {
    "collapsed": true
   },
   "outputs": [],
   "source": [
    "# API authentication\n",
    "twitter = OAuth1Session(dict_key['Consumer Key'], dict_key['Consumer Secret'],\n",
    "                        dict_key['Access Token'], dict_key['Access Token Secret'])"
   ]
  },
  {
   "cell_type": "code",
   "execution_count": 19,
   "metadata": {
    "collapsed": true
   },
   "outputs": [],
   "source": [
    "# Request\n",
    "res = twitter.get(url, params=params)"
   ]
  },
  {
   "cell_type": "code",
   "execution_count": 25,
   "metadata": {
    "scrolled": true
   },
   "outputs": [
    {
     "name": "stdout",
     "output_type": "stream",
     "text": [
      "API remain: 897\n",
      "API remain: 896\n",
      "API remain: 895\n",
      "API remain: 894\n",
      "API remain: 893\n",
      "API remain: 892\n",
      "API remain: 891\n",
      "API remain: 890\n",
      "API remain: 889\n",
      "API remain: 888\n",
      "API remain: 887\n",
      "API remain: 886\n",
      "API remain: 885\n",
      "API remain: 884\n",
      "API remain: 883\n",
      "API remain: 882\n",
      "API remain: 881\n",
      "API remain: 880\n",
      "API remain: 879\n",
      "API remain: 878\n",
      "API remain: 877\n",
      "API remain: 876\n",
      "API remain: 875\n",
      "API remain: 874\n",
      "API remain: 873\n",
      "API remain: 872\n",
      "API remain: 871\n",
      "API remain: 870\n",
      "API remain: 869\n",
      "API remain: 868\n",
      "API remain: 867\n",
      "API remain: 866\n",
      "API remain: 865\n",
      "API remain: 864\n",
      "API remain: 863\n",
      "API remain: 862\n",
      "API remain: 861\n",
      "API remain: 860\n",
      "API remain: 859\n",
      "API remain: 858\n",
      "API remain: 857\n",
      "API remain: 856\n",
      "API remain: 855\n",
      "API remain: 854\n",
      "API remain: 853\n",
      "API remain: 852\n",
      "API remain: 851\n",
      "API remain: 850\n",
      "API remain: 849\n",
      "API remain: 848\n",
      "API remain: 847\n",
      "API remain: 846\n",
      "API remain: 845\n",
      "API remain: 844\n",
      "API remain: 843\n",
      "API remain: 842\n",
      "API remain: 841\n",
      "API remain: 840\n",
      "API remain: 839\n",
      "API remain: 838\n",
      "API remain: 837\n",
      "API remain: 836\n",
      "API remain: 835\n",
      "API remain: 834\n",
      "API remain: 833\n",
      "API remain: 832\n",
      "API remain: 831\n",
      "API remain: 830\n",
      "API remain: 829\n",
      "API remain: 828\n",
      "API remain: 827\n",
      "API remain: 826\n",
      "API remain: 825\n",
      "API remain: 824\n",
      "API remain: 823\n",
      "API remain: 822\n",
      "API remain: 821\n",
      "API remain: 820\n",
      "API remain: 819\n",
      "API remain: 818\n",
      "API remain: 817\n",
      "API remain: 816\n",
      "API remain: 815\n",
      "API remain: 814\n",
      "API remain: 813\n",
      "API remain: 812\n",
      "API remain: 811\n",
      "API remain: 810\n",
      "API remain: 809\n",
      "API remain: 808\n",
      "API remain: 807\n",
      "API remain: 806\n",
      "API remain: 805\n",
      "API remain: 804\n",
      "API remain: 803\n",
      "API remain: 802\n",
      "API remain: 801\n",
      "API remain: 800\n",
      "API remain: 799\n",
      "API remain: 798\n"
     ]
    }
   ],
   "source": [
    "# Get tweets\n",
    "with open('../../data/twitter/sample_tweets.txt', 'w', encoding='UTF-8') as f:\n",
    "    for j in range(100):\n",
    "        res = twitter.get(url, params=params)\n",
    "\n",
    "        if res.status_code == 200:\n",
    "\n",
    "            # API残り\n",
    "            limit = res.headers['x-rate-limit-remaining']\n",
    "            print (\"API remain: \" + limit)\n",
    "            if limit == 1:\n",
    "                sleep(60*15)\n",
    "\n",
    "            n = 0\n",
    "            timeline = json.loads(res.text)\n",
    "            # 各ツイートの本文を表示\n",
    "            for i in range(len(timeline)):\n",
    "                if i != len(timeline)-1:\n",
    "                    f.write(timeline[i]['text'] + '\\n')\n",
    "                else:\n",
    "                    f.write(timeline[i]['text'] + '\\n')\n",
    "                    #一番最後のツイートIDをパラメータmax_idに追加\n",
    "                    params['max_id'] = timeline[i]['id']-1"
   ]
  },
  {
   "cell_type": "markdown",
   "metadata": {},
   "source": [
    "## 特定の単語を含むtweetを検索"
   ]
  },
  {
   "cell_type": "code",
   "execution_count": 21,
   "metadata": {},
   "outputs": [
    {
     "data": {
      "text/plain": [
       "'%22%E5%B7%9D%E4%B8%AD%E5%B3%B6%22%20%22%E5%B9%BB%E8%88%9E%22'"
      ]
     },
     "execution_count": 21,
     "metadata": {},
     "output_type": "execute_result"
    }
   ],
   "source": [
    "search_query = '\"川中島\" \"幻舞\"'\n",
    "\n",
    "parse.quote(search_query)"
   ]
  },
  {
   "cell_type": "code",
   "execution_count": 86,
   "metadata": {},
   "outputs": [],
   "source": [
    "# Set url\n",
    "url = 'https://api.twitter.com/1.1/search/tweets.json'\n",
    "\n",
    "search_query = '\"川中島\" \"幻舞\"'\n",
    "\n",
    "# Set parameters\n",
    "params = {'q': parse.quote(search_query),\n",
    "          'exclude_replies' : True,\n",
    "          'include_rts' : False,\n",
    "          'count' : 200}\n",
    "\n",
    "max_ite = 10\n",
    "\n",
    "txt_output = '../../data/twitter/kawanakajima_genbu.txt'"
   ]
  },
  {
   "cell_type": "code",
   "execution_count": 50,
   "metadata": {},
   "outputs": [],
   "source": [
    "# API authentication\n",
    "twitter = OAuth1Session(dict_key['Consumer Key'], dict_key['Consumer Secret'],\n",
    "                        dict_key['Access Token'], dict_key['Access Token Secret'])"
   ]
  },
  {
   "cell_type": "code",
   "execution_count": 87,
   "metadata": {},
   "outputs": [
    {
     "name": "stdout",
     "output_type": "stream",
     "text": [
      "Iteration: 0/10, Remaining API: 77\n",
      "Iteration: 1/10, Remaining API: 76\n",
      "Iteration: 2/10, Remaining API: 75\n",
      "Iteration: 3/10, Remaining API: 74\n",
      "Iteration: 4/10, Remaining API: 73\n",
      "Iteration: 5/10, Remaining API: 72\n",
      "Iteration: 6/10, Remaining API: 71\n",
      "Iteration: 7/10, Remaining API: 70\n",
      "Iteration: 8/10, Remaining API: 69\n",
      "Iteration: 9/10, Remaining API: 68\n"
     ]
    }
   ],
   "source": [
    "df_tweets = pd.DataFrame(columns=['id', 'favorite_count', 'retweet_count', 'text'])\n",
    "\n",
    "for ite in range(max_ite):\n",
    "    # Request\n",
    "    res = twitter.get(url, params=params)\n",
    "    \n",
    "    #Confirm response\n",
    "    if res.status_code == 200:\n",
    "        # Output tweet\n",
    "        tweets = json.loads(res.text)['statuses']\n",
    "        for tweet in tweets:\n",
    "            df_tweets = df_tweets.append(pd.DataFrame(\n",
    "                {'id': tweet['id'], 'favorite_count': tweet['favorite_count'],\n",
    "                 'retweet_count': tweet['retweet_count'], 'text': tweet['text'].replace('\\n', u'。')},\n",
    "            index=[0]), ignore_index=True)\n",
    "        \n",
    "        # Print remaining API\n",
    "        remaining_api = int(res.headers['x-rate-limit-remaining'])\n",
    "        print('Iteration: %s/%s, Remaining API: %s'%(ite+1, max_ite, remaining_api))\n",
    "        \n",
    "        # Sleep 15 minutes if there is no remain\n",
    "        if remaining_api <= 1:\n",
    "            print('There is no remaining API.\\nSleeping until %s'%(datetime.datetime.now() + datetime.timedelta(minutes=15)))\n",
    "            \n",
    "# Output df_tweets\n",
    "df_tweets.loc[:, ['id', 'favorite_count', 'retweet_count', 'text']].to_csv(txt_output, sep='\\t', index=False, encoding='utf-8')"
   ]
  },
  {
   "cell_type": "code",
   "execution_count": 88,
   "metadata": {},
   "outputs": [
    {
     "data": {
      "text/plain": [
       "{'count': 200,\n",
       " 'exclude_replies': True,\n",
       " 'include_rts': False,\n",
       " 'q': '%22%E5%B7%9D%E4%B8%AD%E5%B3%B6%22%20%22%E5%B9%BB%E8%88%9E%22'}"
      ]
     },
     "execution_count": 88,
     "metadata": {},
     "output_type": "execute_result"
    }
   ],
   "source": [
    "params"
   ]
  },
  {
   "cell_type": "code",
   "execution_count": 92,
   "metadata": {},
   "outputs": [
    {
     "data": {
      "text/plain": [
       "{'contributors': None,\n",
       " 'coordinates': None,\n",
       " 'created_at': 'Wed Nov 29 14:26:12 +0000 2017',\n",
       " 'entities': {'hashtags': [],\n",
       "  'media': [{'display_url': 'pic.twitter.com/UeqZE4v8Gr',\n",
       "    'expanded_url': 'https://twitter.com/oriolus_lover/status/935874816011206658/photo/1',\n",
       "    'id': 935874807966588928,\n",
       "    'id_str': '935874807966588928',\n",
       "    'indices': [78, 101],\n",
       "    'media_url': 'http://pbs.twimg.com/media/DPzlLesV4AAofm1.jpg',\n",
       "    'media_url_https': 'https://pbs.twimg.com/media/DPzlLesV4AAofm1.jpg',\n",
       "    'sizes': {'large': {'h': 2048, 'resize': 'fit', 'w': 1536},\n",
       "     'medium': {'h': 1200, 'resize': 'fit', 'w': 900},\n",
       "     'small': {'h': 680, 'resize': 'fit', 'w': 510},\n",
       "     'thumb': {'h': 150, 'resize': 'crop', 'w': 150}},\n",
       "    'source_status_id': 935874816011206658,\n",
       "    'source_status_id_str': '935874816011206658',\n",
       "    'source_user_id': 893774388679499776,\n",
       "    'source_user_id_str': '893774388679499776',\n",
       "    'type': 'photo',\n",
       "    'url': 'https://t.co/UeqZE4v8Gr'}],\n",
       "  'symbols': [],\n",
       "  'urls': [],\n",
       "  'user_mentions': [{'id': 893774388679499776,\n",
       "    'id_str': '893774388679499776',\n",
       "    'indices': [3, 17],\n",
       "    'name': 'オリオラス大好き',\n",
       "    'screen_name': 'oriolus_lover'}]},\n",
       " 'extended_entities': {'media': [{'display_url': 'pic.twitter.com/UeqZE4v8Gr',\n",
       "    'expanded_url': 'https://twitter.com/oriolus_lover/status/935874816011206658/photo/1',\n",
       "    'id': 935874807966588928,\n",
       "    'id_str': '935874807966588928',\n",
       "    'indices': [78, 101],\n",
       "    'media_url': 'http://pbs.twimg.com/media/DPzlLesV4AAofm1.jpg',\n",
       "    'media_url_https': 'https://pbs.twimg.com/media/DPzlLesV4AAofm1.jpg',\n",
       "    'sizes': {'large': {'h': 2048, 'resize': 'fit', 'w': 1536},\n",
       "     'medium': {'h': 1200, 'resize': 'fit', 'w': 900},\n",
       "     'small': {'h': 680, 'resize': 'fit', 'w': 510},\n",
       "     'thumb': {'h': 150, 'resize': 'crop', 'w': 150}},\n",
       "    'source_status_id': 935874816011206658,\n",
       "    'source_status_id_str': '935874816011206658',\n",
       "    'source_user_id': 893774388679499776,\n",
       "    'source_user_id_str': '893774388679499776',\n",
       "    'type': 'photo',\n",
       "    'url': 'https://t.co/UeqZE4v8Gr'}]},\n",
       " 'favorite_count': 0,\n",
       " 'favorited': False,\n",
       " 'geo': None,\n",
       " 'id': 935877557429211136,\n",
       " 'id_str': '935877557429211136',\n",
       " 'in_reply_to_screen_name': None,\n",
       " 'in_reply_to_status_id': None,\n",
       " 'in_reply_to_status_id_str': None,\n",
       " 'in_reply_to_user_id': None,\n",
       " 'in_reply_to_user_id_str': None,\n",
       " 'is_quote_status': False,\n",
       " 'lang': 'ja',\n",
       " 'metadata': {'iso_language_code': 'ja', 'result_type': 'recent'},\n",
       " 'place': None,\n",
       " 'possibly_sensitive': False,\n",
       " 'retweet_count': 1,\n",
       " 'retweeted': False,\n",
       " 'retweeted_status': {'contributors': None,\n",
       "  'coordinates': None,\n",
       "  'created_at': 'Wed Nov 29 14:15:18 +0000 2017',\n",
       "  'entities': {'hashtags': [],\n",
       "   'media': [{'display_url': 'pic.twitter.com/UeqZE4v8Gr',\n",
       "     'expanded_url': 'https://twitter.com/oriolus_lover/status/935874816011206658/photo/1',\n",
       "     'id': 935874807966588928,\n",
       "     'id_str': '935874807966588928',\n",
       "     'indices': [59, 82],\n",
       "     'media_url': 'http://pbs.twimg.com/media/DPzlLesV4AAofm1.jpg',\n",
       "     'media_url_https': 'https://pbs.twimg.com/media/DPzlLesV4AAofm1.jpg',\n",
       "     'sizes': {'large': {'h': 2048, 'resize': 'fit', 'w': 1536},\n",
       "      'medium': {'h': 1200, 'resize': 'fit', 'w': 900},\n",
       "      'small': {'h': 680, 'resize': 'fit', 'w': 510},\n",
       "      'thumb': {'h': 150, 'resize': 'crop', 'w': 150}},\n",
       "     'type': 'photo',\n",
       "     'url': 'https://t.co/UeqZE4v8Gr'}],\n",
       "   'symbols': [],\n",
       "   'urls': [],\n",
       "   'user_mentions': []},\n",
       "  'extended_entities': {'media': [{'display_url': 'pic.twitter.com/UeqZE4v8Gr',\n",
       "     'expanded_url': 'https://twitter.com/oriolus_lover/status/935874816011206658/photo/1',\n",
       "     'id': 935874807966588928,\n",
       "     'id_str': '935874807966588928',\n",
       "     'indices': [59, 82],\n",
       "     'media_url': 'http://pbs.twimg.com/media/DPzlLesV4AAofm1.jpg',\n",
       "     'media_url_https': 'https://pbs.twimg.com/media/DPzlLesV4AAofm1.jpg',\n",
       "     'sizes': {'large': {'h': 2048, 'resize': 'fit', 'w': 1536},\n",
       "      'medium': {'h': 1200, 'resize': 'fit', 'w': 900},\n",
       "      'small': {'h': 680, 'resize': 'fit', 'w': 510},\n",
       "      'thumb': {'h': 150, 'resize': 'crop', 'w': 150}},\n",
       "     'type': 'photo',\n",
       "     'url': 'https://t.co/UeqZE4v8Gr'}]},\n",
       "  'favorite_count': 5,\n",
       "  'favorited': False,\n",
       "  'geo': None,\n",
       "  'id': 935874816011206658,\n",
       "  'id_str': '935874816011206658',\n",
       "  'in_reply_to_screen_name': None,\n",
       "  'in_reply_to_status_id': None,\n",
       "  'in_reply_to_status_id_str': None,\n",
       "  'in_reply_to_user_id': None,\n",
       "  'in_reply_to_user_id_str': None,\n",
       "  'is_quote_status': False,\n",
       "  'lang': 'ja',\n",
       "  'metadata': {'iso_language_code': 'ja', 'result_type': 'recent'},\n",
       "  'place': None,\n",
       "  'possibly_sensitive': False,\n",
       "  'retweet_count': 1,\n",
       "  'retweeted': False,\n",
       "  'source': '<a href=\"http://twitter.com/download/iphone\" rel=\"nofollow\">Twitter for iPhone</a>',\n",
       "  'text': '5杯目\\n川中島 幻舞\\nしっかりしたボディ感\\nそれでありながらスッキリして飲みやすいです(^_^)\\nこれも美味しい‼️ https://t.co/UeqZE4v8Gr',\n",
       "  'truncated': False,\n",
       "  'user': {'contributors_enabled': False,\n",
       "   'created_at': 'Sat Aug 05 10:03:14 +0000 2017',\n",
       "   'default_profile': True,\n",
       "   'default_profile_image': False,\n",
       "   'description': '音楽、オーディオ、お酒、電子工作が趣味です。 Oriolusカスタムでイヤホン沼終了。 今は適当に沼遊びしています。ラズパイ オーディオも面白い(^_^)',\n",
       "   'entities': {'description': {'urls': []}},\n",
       "   'favourites_count': 907,\n",
       "   'follow_request_sent': False,\n",
       "   'followers_count': 67,\n",
       "   'following': False,\n",
       "   'friends_count': 38,\n",
       "   'geo_enabled': True,\n",
       "   'has_extended_profile': True,\n",
       "   'id': 893774388679499776,\n",
       "   'id_str': '893774388679499776',\n",
       "   'is_translation_enabled': False,\n",
       "   'is_translator': False,\n",
       "   'lang': 'ja',\n",
       "   'listed_count': 0,\n",
       "   'location': '日本',\n",
       "   'name': 'オリオラス大好き',\n",
       "   'notifications': False,\n",
       "   'profile_background_color': 'F5F8FA',\n",
       "   'profile_background_image_url': None,\n",
       "   'profile_background_image_url_https': None,\n",
       "   'profile_background_tile': False,\n",
       "   'profile_banner_url': 'https://pbs.twimg.com/profile_banners/893774388679499776/1502094689',\n",
       "   'profile_image_url': 'http://pbs.twimg.com/profile_images/899278936294662144/z8P3EFjV_normal.jpg',\n",
       "   'profile_image_url_https': 'https://pbs.twimg.com/profile_images/899278936294662144/z8P3EFjV_normal.jpg',\n",
       "   'profile_link_color': '1DA1F2',\n",
       "   'profile_sidebar_border_color': 'C0DEED',\n",
       "   'profile_sidebar_fill_color': 'DDEEF6',\n",
       "   'profile_text_color': '333333',\n",
       "   'profile_use_background_image': True,\n",
       "   'protected': False,\n",
       "   'screen_name': 'oriolus_lover',\n",
       "   'statuses_count': 891,\n",
       "   'time_zone': None,\n",
       "   'translator_type': 'none',\n",
       "   'url': None,\n",
       "   'utc_offset': None,\n",
       "   'verified': False}},\n",
       " 'source': '<a href=\"http://twitter.com/download/android\" rel=\"nofollow\">Twitter for Android</a>',\n",
       " 'text': 'RT @oriolus_lover: 5杯目\\n川中島 幻舞\\nしっかりしたボディ感\\nそれでありながらスッキリして飲みやすいです(^_^)\\nこれも美味しい‼️ https://t.co/UeqZE4v8Gr',\n",
       " 'truncated': False,\n",
       " 'user': {'contributors_enabled': False,\n",
       "  'created_at': 'Fri Sep 12 12:22:19 +0000 2014',\n",
       "  'default_profile': False,\n",
       "  'default_profile_image': False,\n",
       "  'description': 'RPi用DAC:TerraBerry2/Sabreberry32 DAP:DP-X1A イヤホン:IE800/CW-L02/TurbineCP/AH-C710/E700m/SE-5000HR/IE002 ヘッドホン:LCD-2Bamboo/HD545/HD25/MX100Z/ES-FC300 時計:パシャC',\n",
       "  'entities': {'description': {'urls': []}},\n",
       "  'favourites_count': 560,\n",
       "  'follow_request_sent': False,\n",
       "  'followers_count': 1091,\n",
       "  'following': False,\n",
       "  'friends_count': 1998,\n",
       "  'geo_enabled': False,\n",
       "  'has_extended_profile': True,\n",
       "  'id': 2805444864,\n",
       "  'id_str': '2805444864',\n",
       "  'is_translation_enabled': False,\n",
       "  'is_translator': False,\n",
       "  'lang': 'ja',\n",
       "  'listed_count': 13,\n",
       "  'location': 'T1 2nd欲しい病…',\n",
       "  'name': 'kapperdynamic))))',\n",
       "  'notifications': False,\n",
       "  'profile_background_color': '000000',\n",
       "  'profile_background_image_url': 'http://abs.twimg.com/images/themes/theme1/bg.png',\n",
       "  'profile_background_image_url_https': 'https://abs.twimg.com/images/themes/theme1/bg.png',\n",
       "  'profile_background_tile': False,\n",
       "  'profile_banner_url': 'https://pbs.twimg.com/profile_banners/2805444864/1506826905',\n",
       "  'profile_image_url': 'http://pbs.twimg.com/profile_images/905068711891034112/uIApfUTs_normal.jpg',\n",
       "  'profile_image_url_https': 'https://pbs.twimg.com/profile_images/905068711891034112/uIApfUTs_normal.jpg',\n",
       "  'profile_link_color': '1B95E0',\n",
       "  'profile_sidebar_border_color': '000000',\n",
       "  'profile_sidebar_fill_color': '000000',\n",
       "  'profile_text_color': '000000',\n",
       "  'profile_use_background_image': False,\n",
       "  'protected': False,\n",
       "  'screen_name': 'Kappa_PCM1792',\n",
       "  'statuses_count': 1918,\n",
       "  'time_zone': None,\n",
       "  'translator_type': 'none',\n",
       "  'url': None,\n",
       "  'utc_offset': None,\n",
       "  'verified': False}}"
      ]
     },
     "execution_count": 92,
     "metadata": {},
     "output_type": "execute_result"
    }
   ],
   "source": [
    "tweets[0]"
   ]
  },
  {
   "cell_type": "code",
   "execution_count": 95,
   "metadata": {},
   "outputs": [
    {
     "data": {
      "text/plain": [
       "True"
      ]
     },
     "execution_count": 95,
     "metadata": {},
     "output_type": "execute_result"
    }
   ],
   "source": [
    "tweets[0]['in_reply_to_user_id'] is None"
   ]
  },
  {
   "cell_type": "code",
   "execution_count": 93,
   "metadata": {},
   "outputs": [
    {
     "data": {
      "text/plain": [
       "False"
      ]
     },
     "execution_count": 93,
     "metadata": {},
     "output_type": "execute_result"
    }
   ],
   "source": [
    "tweets[0]['retweeted']"
   ]
  },
  {
   "cell_type": "code",
   "execution_count": 77,
   "metadata": {},
   "outputs": [
    {
     "name": "stdout",
     "output_type": "stream",
     "text": [
      "There is no remaining API.\n",
      "Sleeping until 2017-11-30 17:05:49.424602\n"
     ]
    }
   ],
   "source": [
    "print('There is no remaining API.\\nSleeping until %s'%(datetime.datetime.now() + datetime.timedelta(minutes=15)))"
   ]
  },
  {
   "cell_type": "code",
   "execution_count": 43,
   "metadata": {
    "scrolled": true
   },
   "outputs": [
    {
     "name": "stdout",
     "output_type": "stream",
     "text": [
      "API remain: 178\n",
      "API remain: 177\n"
     ]
    },
    {
     "ename": "IndexError",
     "evalue": "list index out of range",
     "output_type": "error",
     "traceback": [
      "\u001b[1;31m---------------------------------------------------------------------------\u001b[0m",
      "\u001b[1;31mIndexError\u001b[0m                                Traceback (most recent call last)",
      "\u001b[1;32m<ipython-input-43-74771d4a0899>\u001b[0m in \u001b[0;36m<module>\u001b[1;34m()\u001b[0m\n\u001b[0;32m     20\u001b[0m \u001b[1;33m\u001b[0m\u001b[0m\n\u001b[0;32m     21\u001b[0m             \u001b[1;31m# Add ID of last tweet into max_id\u001b[0m\u001b[1;33m\u001b[0m\u001b[1;33m\u001b[0m\u001b[0m\n\u001b[1;32m---> 22\u001b[1;33m             \u001b[0mparams\u001b[0m\u001b[1;33m[\u001b[0m\u001b[1;34m'max_id'\u001b[0m\u001b[1;33m]\u001b[0m \u001b[1;33m=\u001b[0m \u001b[0mtimeline\u001b[0m\u001b[1;33m[\u001b[0m\u001b[1;33m-\u001b[0m\u001b[1;36m1\u001b[0m\u001b[1;33m]\u001b[0m\u001b[1;33m[\u001b[0m\u001b[1;34m'id'\u001b[0m\u001b[1;33m]\u001b[0m \u001b[1;33m-\u001b[0m \u001b[1;36m1\u001b[0m\u001b[1;33m\u001b[0m\u001b[0m\n\u001b[0m",
      "\u001b[1;31mIndexError\u001b[0m: list index out of range"
     ]
    }
   ],
   "source": [
    "# Set text file for output\n",
    "pd.DataFrame(columns=['id', 'favorite_count', 'retweet_count', 'text']).to_csv(sep='\\t', index=False)\n",
    "\n",
    "# Get tweets\n",
    "with open('../../data/twitter/kawanakajima_genbu.txt', 'w', encoding='UTF-8') as f:\n",
    "    for j in range(100):\n",
    "        # Request\n",
    "        res = twitter.get(url, params=params)\n",
    "\n",
    "        if res.status_code == 200:\n",
    "\n",
    "            # Remaining API\n",
    "            limit = res.headers['x-rate-limit-remaining']\n",
    "            print('API remain: %s'%(limit))\n",
    "            if limit == 1:\n",
    "                # Sleep 15 minutes\n",
    "                sleep(60*15)\n",
    "\n",
    "            n = 0\n",
    "            timeline = json.loads(res.text)['statuses']\n",
    "            \n",
    "            # Write text\n",
    "            for i in range(len(timeline)):\n",
    "                f.write(timeline[i]['text'] + '\\n')\n",
    "                    \n",
    "            # Add max_id as a parameter\n",
    "            params['max_id'] = json.loads(res.text)['search_metadata']['max_id']"
   ]
  },
  {
   "cell_type": "code",
   "execution_count": 63,
   "metadata": {},
   "outputs": [
    {
     "data": {
      "text/plain": [
       "200"
      ]
     },
     "execution_count": 63,
     "metadata": {},
     "output_type": "execute_result"
    }
   ],
   "source": [
    "res.status_code"
   ]
  },
  {
   "cell_type": "code",
   "execution_count": 51,
   "metadata": {},
   "outputs": [],
   "source": [
    "res = twitter.get(url, params=params)\n",
    "\n",
    "timeline = json.loads(res.text)['statuses']"
   ]
  },
  {
   "cell_type": "code",
   "execution_count": 60,
   "metadata": {},
   "outputs": [
    {
     "data": {
      "text/plain": [
       "'RT @oriolus_lover: 5杯目。川中島 幻舞。しっかりしたボディ感。それでありながらスッキリして飲みやすいです(^_^)。これも美味しい‼️ https://t.co/UeqZE4v8Gr'"
      ]
     },
     "execution_count": 60,
     "metadata": {},
     "output_type": "execute_result"
    }
   ],
   "source": [
    "timeline[0]['text'].replace('\\n', u'。')"
   ]
  },
  {
   "cell_type": "code",
   "execution_count": 56,
   "metadata": {},
   "outputs": [
    {
     "data": {
      "text/plain": [
       "0"
      ]
     },
     "execution_count": 56,
     "metadata": {},
     "output_type": "execute_result"
    }
   ],
   "source": [
    "timeline[0]['favorite_count']"
   ]
  },
  {
   "cell_type": "code",
   "execution_count": 57,
   "metadata": {},
   "outputs": [
    {
     "data": {
      "text/plain": [
       "1"
      ]
     },
     "execution_count": 57,
     "metadata": {},
     "output_type": "execute_result"
    }
   ],
   "source": [
    "timeline[0]['retweet_count']"
   ]
  },
  {
   "cell_type": "code",
   "execution_count": 58,
   "metadata": {},
   "outputs": [
    {
     "data": {
      "text/plain": [
       "935877557429211136"
      ]
     },
     "execution_count": 58,
     "metadata": {},
     "output_type": "execute_result"
    }
   ],
   "source": [
    "timeline[0]['id']"
   ]
  }
 ],
 "metadata": {
  "kernelspec": {
   "display_name": "Python 3",
   "language": "python",
   "name": "python3"
  },
  "language_info": {
   "codemirror_mode": {
    "name": "ipython",
    "version": 3
   },
   "file_extension": ".py",
   "mimetype": "text/x-python",
   "name": "python",
   "nbconvert_exporter": "python",
   "pygments_lexer": "ipython3",
   "version": "3.6.2"
  }
 },
 "nbformat": 4,
 "nbformat_minor": 2
}
