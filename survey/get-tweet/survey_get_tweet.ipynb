{
 "cells": [
  {
   "cell_type": "code",
   "execution_count": 24,
   "metadata": {
    "collapsed": true
   },
   "outputs": [],
   "source": [
    "import json\n",
    "import requests\n",
    "\n",
    "from requests_oauthlib import OAuth1Session"
   ]
  },
  {
   "cell_type": "code",
   "execution_count": 13,
   "metadata": {
    "collapsed": true
   },
   "outputs": [],
   "source": [
    "# Define key and token\n",
    "dict_key = {}\n",
    "\n",
    "with open('../../key-and-tokes.txt', 'r') as f:\n",
    "    for line in f.readlines():\n",
    "        pair = line.replace('\\n', '').split(':')\n",
    "        dict_key[pair[0].strip()] = pair[1].strip()"
   ]
  },
  {
   "cell_type": "code",
   "execution_count": 17,
   "metadata": {},
   "outputs": [],
   "source": [
    "# Set url\n",
    "url = 'https://api.twitter.com/1.1/statuses/user_timeline.json'\n",
    "\n",
    "# Set parameters\n",
    "params = {'screen_name':'gan_informatics',\n",
    "          'exclude_replies' : True,\n",
    "          'include_rts' : False,\n",
    "          'count' : 200}"
   ]
  },
  {
   "cell_type": "code",
   "execution_count": 18,
   "metadata": {
    "collapsed": true
   },
   "outputs": [],
   "source": [
    "# API authentication\n",
    "twitter = OAuth1Session(dict_key['Consumer Key'], dict_key['Consumer Secret'],\n",
    "                        dict_key['Access Token'], dict_key['Access Token Secret'])"
   ]
  },
  {
   "cell_type": "code",
   "execution_count": 19,
   "metadata": {},
   "outputs": [],
   "source": [
    "# Request\n",
    "res = twitter.get(url, params=params)"
   ]
  },
  {
   "cell_type": "code",
   "execution_count": 25,
   "metadata": {
    "scrolled": true
   },
   "outputs": [
    {
     "name": "stdout",
     "output_type": "stream",
     "text": [
      "API remain: 897\n",
      "API remain: 896\n",
      "API remain: 895\n",
      "API remain: 894\n",
      "API remain: 893\n",
      "API remain: 892\n",
      "API remain: 891\n",
      "API remain: 890\n",
      "API remain: 889\n",
      "API remain: 888\n",
      "API remain: 887\n",
      "API remain: 886\n",
      "API remain: 885\n",
      "API remain: 884\n",
      "API remain: 883\n",
      "API remain: 882\n",
      "API remain: 881\n",
      "API remain: 880\n",
      "API remain: 879\n",
      "API remain: 878\n",
      "API remain: 877\n",
      "API remain: 876\n",
      "API remain: 875\n",
      "API remain: 874\n",
      "API remain: 873\n",
      "API remain: 872\n",
      "API remain: 871\n",
      "API remain: 870\n",
      "API remain: 869\n",
      "API remain: 868\n",
      "API remain: 867\n",
      "API remain: 866\n",
      "API remain: 865\n",
      "API remain: 864\n",
      "API remain: 863\n",
      "API remain: 862\n",
      "API remain: 861\n",
      "API remain: 860\n",
      "API remain: 859\n",
      "API remain: 858\n",
      "API remain: 857\n",
      "API remain: 856\n",
      "API remain: 855\n",
      "API remain: 854\n",
      "API remain: 853\n",
      "API remain: 852\n",
      "API remain: 851\n",
      "API remain: 850\n",
      "API remain: 849\n",
      "API remain: 848\n",
      "API remain: 847\n",
      "API remain: 846\n",
      "API remain: 845\n",
      "API remain: 844\n",
      "API remain: 843\n",
      "API remain: 842\n",
      "API remain: 841\n",
      "API remain: 840\n",
      "API remain: 839\n",
      "API remain: 838\n",
      "API remain: 837\n",
      "API remain: 836\n",
      "API remain: 835\n",
      "API remain: 834\n",
      "API remain: 833\n",
      "API remain: 832\n",
      "API remain: 831\n",
      "API remain: 830\n",
      "API remain: 829\n",
      "API remain: 828\n",
      "API remain: 827\n",
      "API remain: 826\n",
      "API remain: 825\n",
      "API remain: 824\n",
      "API remain: 823\n",
      "API remain: 822\n",
      "API remain: 821\n",
      "API remain: 820\n",
      "API remain: 819\n",
      "API remain: 818\n",
      "API remain: 817\n",
      "API remain: 816\n",
      "API remain: 815\n",
      "API remain: 814\n",
      "API remain: 813\n",
      "API remain: 812\n",
      "API remain: 811\n",
      "API remain: 810\n",
      "API remain: 809\n",
      "API remain: 808\n",
      "API remain: 807\n",
      "API remain: 806\n",
      "API remain: 805\n",
      "API remain: 804\n",
      "API remain: 803\n",
      "API remain: 802\n",
      "API remain: 801\n",
      "API remain: 800\n",
      "API remain: 799\n",
      "API remain: 798\n"
     ]
    }
   ],
   "source": [
    "# Get tweets\n",
    "with open('../../data/twitter/sample_tweets.txt', 'w', encoding='UTF-8') as f:\n",
    "    for j in range(100):\n",
    "        res = twitter.get(url, params=params)\n",
    "\n",
    "        if res.status_code == 200:\n",
    "\n",
    "            # API残り\n",
    "            limit = res.headers['x-rate-limit-remaining']\n",
    "            print (\"API remain: \" + limit)\n",
    "            if limit == 1:\n",
    "                sleep(60*15)\n",
    "\n",
    "            n = 0\n",
    "            timeline = json.loads(res.text)\n",
    "            # 各ツイートの本文を表示\n",
    "            for i in range(len(timeline)):\n",
    "                if i != len(timeline)-1:\n",
    "                    f.write(timeline[i]['text'] + '\\n')\n",
    "                else:\n",
    "                    f.write(timeline[i]['text'] + '\\n')\n",
    "                    #一番最後のツイートIDをパラメータmax_idに追加\n",
    "                    params['max_id'] = timeline[i]['id']-1"
   ]
  }
 ],
 "metadata": {
  "kernelspec": {
   "display_name": "Python 3",
   "language": "python",
   "name": "python3"
  },
  "language_info": {
   "codemirror_mode": {
    "name": "ipython",
    "version": 3
   },
   "file_extension": ".py",
   "mimetype": "text/x-python",
   "name": "python",
   "nbconvert_exporter": "python",
   "pygments_lexer": "ipython3",
   "version": "3.6.2"
  }
 },
 "nbformat": 4,
 "nbformat_minor": 2
}
